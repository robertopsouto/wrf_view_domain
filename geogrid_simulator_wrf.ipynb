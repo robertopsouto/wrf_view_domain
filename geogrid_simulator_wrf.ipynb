{
  "nbformat": 4,
  "nbformat_minor": 0,
  "metadata": {
    "colab": {
      "provenance": [],
      "authorship_tag": "ABX9TyPkdUgOPKl4ETjaOFMhiJKL",
      "include_colab_link": true
    },
    "kernelspec": {
      "name": "python3",
      "display_name": "Python 3"
    },
    "language_info": {
      "name": "python"
    }
  },
  "cells": [
    {
      "cell_type": "markdown",
      "metadata": {
        "id": "view-in-github",
        "colab_type": "text"
      },
      "source": [
        "<a href=\"https://colab.research.google.com/github/robertopsouto/wrf_view_domain/blob/main/geogrid_simulator_wrf.ipynb\" target=\"_parent\"><img src=\"https://colab.research.google.com/assets/colab-badge.svg\" alt=\"Open In Colab\"/></a>"
      ]
    },
    {
      "cell_type": "markdown",
      "source": [
        "# Preparação de domínio no WRF"
      ],
      "metadata": {
        "id": "JDWElacE27UW"
      }
    },
    {
      "cell_type": "markdown",
      "source": [
        "## Instalando a biblioteca Salem"
      ],
      "metadata": {
        "id": "C-AlNR9S8Ei6"
      }
    },
    {
      "cell_type": "code",
      "execution_count": null,
      "metadata": {
        "id": "RyjVMfJiZiHo"
      },
      "outputs": [],
      "source": [
        "%%bash\n",
        "# https://salem.readthedocs.io/en/v0.3.4/installing.html\n",
        "pip install salem"
      ]
    },
    {
      "cell_type": "markdown",
      "source": [
        "## Vendo as informações (meta-dados) do arquivo"
      ],
      "metadata": {
        "id": "Zsd9sb-H8c3J"
      }
    },
    {
      "cell_type": "code",
      "source": [
        "import salem"
      ],
      "metadata": {
        "id": "UyVxtz5mwdQP"
      },
      "execution_count": null,
      "outputs": []
    },
    {
      "cell_type": "code",
      "source": [
        "%%writefile namelist.wps\n",
        "&geogrid\n",
        " parent_id         = 1,\n",
        " parent_grid_ratio = 1,\n",
        " i_parent_start    = 1,\n",
        " j_parent_start    = 1,\n",
        " e_we          = 160,\n",
        " e_sn          = 140,\n",
        " geog_data_res = '30s',\n",
        " dx = 9000,\n",
        " dy = 9000,\n",
        " map_proj =  'mercator',\n",
        " ref_lat   =  -2.43,\n",
        " ref_lon   =  -54.72,\n",
        " truelat1  =  -2.43,\n",
        "/\n"
      ],
      "metadata": {
        "id": "dLADkaxAvLJD"
      },
      "execution_count": null,
      "outputs": []
    },
    {
      "cell_type": "code",
      "source": [
        "from salem import geogrid_simulator\n",
        "g, maps = geogrid_simulator('namelist.wps', do_maps=True, map_kwargs=None)"
      ],
      "metadata": {
        "id": "XNSifw5KaSnj"
      },
      "execution_count": null,
      "outputs": []
    },
    {
      "cell_type": "code",
      "source": [
        "with open('namelist.wps', 'r') as f:  # this is just to show the file\n",
        "   ....:     print(f.read())\n",
        "   ....:"
      ],
      "metadata": {
        "id": "lK4CjblD66O6"
      },
      "execution_count": null,
      "outputs": []
    },
    {
      "cell_type": "code",
      "source": [
        "maps[0].set_rgb(natural_earth='lr')"
      ],
      "metadata": {
        "id": "KrwmyQxM6fmh"
      },
      "execution_count": null,
      "outputs": []
    },
    {
      "cell_type": "code",
      "source": [
        "maps[0].visualize(title='Domain')"
      ],
      "metadata": {
        "id": "Zl-Z-sTs6gdJ"
      },
      "execution_count": null,
      "outputs": []
    }
  ]
}