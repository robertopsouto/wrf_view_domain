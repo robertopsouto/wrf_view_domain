{
  "nbformat": 4,
  "nbformat_minor": 0,
  "metadata": {
    "colab": {
      "provenance": [],
      "authorship_tag": "ABX9TyPNXX9qFL1rfksRItptL2Kj",
      "include_colab_link": true
    },
    "kernelspec": {
      "name": "python3",
      "display_name": "Python 3"
    },
    "language_info": {
      "name": "python"
    }
  },
  "cells": [
    {
      "cell_type": "markdown",
      "metadata": {
        "id": "view-in-github",
        "colab_type": "text"
      },
      "source": [
        "<a href=\"https://colab.research.google.com/github/robertopsouto/wrf_view_domain/blob/main/geogrid_simulator.ipynb\" target=\"_parent\"><img src=\"https://colab.research.google.com/assets/colab-badge.svg\" alt=\"Open In Colab\"/></a>"
      ]
    },
    {
      "cell_type": "markdown",
      "source": [
        "# Preparação de domínio no WRF"
      ],
      "metadata": {
        "id": "JDWElacE27UW"
      }
    },
    {
      "cell_type": "markdown",
      "source": [
        "## Baixando o resultado"
      ],
      "metadata": {
        "id": "2mbELHIL8AYi"
      }
    },
    {
      "cell_type": "code",
      "source": [
        "%%bash\n",
        "git clone https://github.com/robertopsouto/wrf_view_domain.git"
      ],
      "metadata": {
        "id": "sqKswInZ_nUM"
      },
      "execution_count": null,
      "outputs": []
    },
    {
      "cell_type": "code",
      "source": [
        "%cd wrf_view_domain"
      ],
      "metadata": {
        "id": "VOuvNKoF_7Tc"
      },
      "execution_count": null,
      "outputs": []
    },
    {
      "cell_type": "markdown",
      "source": [
        "## Instalando a biblioteca Salem"
      ],
      "metadata": {
        "id": "C-AlNR9S8Ei6"
      }
    },
    {
      "cell_type": "code",
      "execution_count": null,
      "metadata": {
        "id": "RyjVMfJiZiHo"
      },
      "outputs": [],
      "source": [
        "%%bash\n",
        "# https://salem.readthedocs.io/en/v0.3.4/installing.html\n",
        "pip install salem"
      ]
    },
    {
      "cell_type": "markdown",
      "source": [
        "## Vendo as informações (meta-dados) do arquivo"
      ],
      "metadata": {
        "id": "Zsd9sb-H8c3J"
      }
    },
    {
      "cell_type": "code",
      "source": [
        "import salem"
      ],
      "metadata": {
        "id": "UyVxtz5mwdQP"
      },
      "execution_count": null,
      "outputs": []
    },
    {
      "cell_type": "code",
      "source": [
        "from salem.utils import get_demo_file\n",
        "fpath = get_demo_file('namelist_mercator.wps')\n",
        "salem.utils.get_demo_file\n",
        "#fpath = get_demo_file('namelist.wps')\n"
      ],
      "metadata": {
        "id": "dLADkaxAvLJD"
      },
      "execution_count": null,
      "outputs": []
    },
    {
      "cell_type": "code",
      "source": [
        "from salem import geogrid_simulator\n",
        "g, maps = geogrid_simulator('namelist.wps', do_maps=True, map_kwargs=None)\n",
        "#g, maps = geogrid_simulator(fpath)"
      ],
      "metadata": {
        "id": "XNSifw5KaSnj"
      },
      "execution_count": null,
      "outputs": []
    },
    {
      "cell_type": "code",
      "source": [
        "with open('namelist.wps', 'r') as f:  # this is just to show the file\n",
        "   ....:     print(f.read())\n",
        "   ....:"
      ],
      "metadata": {
        "id": "lK4CjblD66O6"
      },
      "execution_count": null,
      "outputs": []
    },
    {
      "cell_type": "code",
      "source": [
        "maps[0].set_rgb(natural_earth='lr')"
      ],
      "metadata": {
        "id": "KrwmyQxM6fmh"
      },
      "execution_count": null,
      "outputs": []
    },
    {
      "cell_type": "code",
      "source": [
        "maps[0].visualize(title='Domain')"
      ],
      "metadata": {
        "id": "Zl-Z-sTs6gdJ"
      },
      "execution_count": null,
      "outputs": []
    }
  ]
}